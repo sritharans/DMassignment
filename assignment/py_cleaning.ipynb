{
  "cells": [
    {
      "cell_type": "markdown",
      "source": [
        "# Objective\n",
        "The purpose of this script is to clean the output of the aswscrp tool to get specific item listing data. For example, we want to only get the comparable items to the FiiO music player from the product listing at: https://www.aliexpress.com/item/4000589596283.html\n",
        "\n",
        "The sample taken from the URL would contain items such as cases/covers for the player, earphones and other brand of players that we not interested in. We are only interested in the comparable items from FiiO that are music players as well."
      ],
      "metadata": {
        "nteract": {
          "transient": {
            "deleting": false
          }
        }
      }
    },
    {
      "cell_type": "code",
      "source": [
        "#Load Pandas and the RegEx libraries\n",
        "import pandas as pd\n",
        "import re"
      ],
      "outputs": [],
      "execution_count": 1,
      "metadata": {
        "collapsed": true,
        "outputExpanded": false,
        "jupyter": {
          "source_hidden": false,
          "outputs_hidden": false
        },
        "nteract": {
          "transient": {
            "deleting": false
          }
        },
        "execution": {
          "iopub.status.busy": "2020-05-08T11:57:51.744Z",
          "iopub.execute_input": "2020-05-08T11:57:51.757Z",
          "shell.execute_reply": "2020-05-08T11:57:52.427Z",
          "iopub.status.idle": "2020-05-08T11:57:52.415Z"
        }
      }
    },
    {
      "cell_type": "markdown",
      "source": [
        "Load the `ouput.csv` that was generated using the aewscrp tool for the item at: https://www.aliexpress.com/item/4000589596283.html"
      ],
      "metadata": {
        "nteract": {
          "transient": {
            "deleting": false
          }
        }
      }
    },
    {
      "cell_type": "code",
      "source": [
        "# Read the output from aewscrp\n",
        "item_list = pd.read_csv(\"../aewscrp/output.csv\")\n",
        "# Print a sample. It should contain items that are not relevant to the FiiO player\n",
        "item_list.head()"
      ],
      "outputs": [
        {
          "output_type": "execute_result",
          "execution_count": 4,
          "data": {
            "text/plain": [
              "                                         Description  \\\n",
              "0  FiiO M3 Pro Full Touchscreen Lossless DSD HiFi...   \n",
              "1  Hidizs AP80 PRO dual ESS9218P Bluetooth Portab...   \n",
              "2  FiiO M15 Flagship Android Dual AK4499 Hi-Res P...   \n",
              "3  FiiO M3Pro/M3 Pro Hi-Res MP3 Player ES9218 HiF...   \n",
              "4  Hidizs AP80 PRO dual ESS921 MP3 Bluetooth Musi...   \n",
              "\n",
              "                                                 URL     Price  \n",
              "0  https://www.aliexpress.com/item/4000972188106....     79.99  \n",
              "1  https://www.aliexpress.com/item/4000924308974....       169  \n",
              "2  https://www.aliexpress.com/item/4000995400006....  1,349.99  \n",
              "3  https://www.aliexpress.com/item/4000960723826....     79.99  \n",
              "4  https://www.aliexpress.com/item/4000916726086....       169  "
            ],
            "text/html": [
              "<div>\n",
              "<style scoped>\n",
              "    .dataframe tbody tr th:only-of-type {\n",
              "        vertical-align: middle;\n",
              "    }\n",
              "\n",
              "    .dataframe tbody tr th {\n",
              "        vertical-align: top;\n",
              "    }\n",
              "\n",
              "    .dataframe thead th {\n",
              "        text-align: right;\n",
              "    }\n",
              "</style>\n",
              "<table border=\"1\" class=\"dataframe\">\n",
              "  <thead>\n",
              "    <tr style=\"text-align: right;\">\n",
              "      <th></th>\n",
              "      <th>Description</th>\n",
              "      <th>URL</th>\n",
              "      <th>Price</th>\n",
              "    </tr>\n",
              "  </thead>\n",
              "  <tbody>\n",
              "    <tr>\n",
              "      <th>0</th>\n",
              "      <td>FiiO M3 Pro Full Touchscreen Lossless DSD HiFi...</td>\n",
              "      <td>https://www.aliexpress.com/item/4000972188106....</td>\n",
              "      <td>79.99</td>\n",
              "    </tr>\n",
              "    <tr>\n",
              "      <th>1</th>\n",
              "      <td>Hidizs AP80 PRO dual ESS9218P Bluetooth Portab...</td>\n",
              "      <td>https://www.aliexpress.com/item/4000924308974....</td>\n",
              "      <td>169</td>\n",
              "    </tr>\n",
              "    <tr>\n",
              "      <th>2</th>\n",
              "      <td>FiiO M15 Flagship Android Dual AK4499 Hi-Res P...</td>\n",
              "      <td>https://www.aliexpress.com/item/4000995400006....</td>\n",
              "      <td>1,349.99</td>\n",
              "    </tr>\n",
              "    <tr>\n",
              "      <th>3</th>\n",
              "      <td>FiiO M3Pro/M3 Pro Hi-Res MP3 Player ES9218 HiF...</td>\n",
              "      <td>https://www.aliexpress.com/item/4000960723826....</td>\n",
              "      <td>79.99</td>\n",
              "    </tr>\n",
              "    <tr>\n",
              "      <th>4</th>\n",
              "      <td>Hidizs AP80 PRO dual ESS921 MP3 Bluetooth Musi...</td>\n",
              "      <td>https://www.aliexpress.com/item/4000916726086....</td>\n",
              "      <td>169</td>\n",
              "    </tr>\n",
              "  </tbody>\n",
              "</table>\n",
              "</div>"
            ]
          },
          "metadata": {}
        }
      ],
      "execution_count": 4,
      "metadata": {
        "collapsed": true,
        "outputExpanded": false,
        "jupyter": {
          "source_hidden": false,
          "outputs_hidden": false
        },
        "nteract": {
          "transient": {
            "deleting": false
          }
        },
        "execution": {
          "iopub.status.busy": "2020-05-08T11:58:15.297Z",
          "iopub.execute_input": "2020-05-08T11:58:15.303Z",
          "iopub.status.idle": "2020-05-08T11:58:15.314Z",
          "shell.execute_reply": "2020-05-08T11:58:15.333Z"
        }
      }
    },
    {
      "cell_type": "markdown",
      "source": [
        "We then filter the comparable item list for only music players, no cases/covers. Then filter players that are FiiO branded only."
      ],
      "metadata": {
        "nteract": {
          "transient": {
            "deleting": false
          }
        }
      }
    },
    {
      "cell_type": "code",
      "source": [
        "# Filter out the player list for cases/covers\n",
        "player_list = item_list[~item_list.Description.str.contains(\"cover|case\", case=False) & item_list.Description.str.contains(\"Player\", case=False)]\n",
        "# Filter out players that are not from FiiO\n",
        "fiio_items = player_list[player_list.Description.str.contains(\"FiiO\", case=False)]\n",
        "# View the output to confirm only FiiO music players are in the list\n",
        "fiio_items"
      ],
      "outputs": [
        {
          "output_type": "execute_result",
          "execution_count": 12,
          "data": {
            "text/plain": [
              "                                          Description  \\\n",
              "0   FiiO M3 Pro Full Touchscreen Lossless DSD HiFi...   \n",
              "2   FiiO M15 Flagship Android Dual AK4499 Hi-Res P...   \n",
              "3   FiiO M3Pro/M3 Pro Hi-Res MP3 Player ES9218 HiF...   \n",
              "8   FiiO M11 Pro Android Hi-Res Music Player Bluet...   \n",
              "11  FiiO M11 Pro Stainless Steel limited edition H...   \n",
              "14  FiiO M11 HIFI Audio Android-based Bluetooth Lo...   \n",
              "16  FiiO M9 HIFI Balanced Output Portable High-Res...   \n",
              "17  FiiO M6 Hi-Res Bluetooth HiFi Music Portable M...   \n",
              "18  FIIO M11 PRO Samsung Exynos 7872 Android 7.0 B...   \n",
              "23  FiiO M11 Pro Hi-Res Music Player AK4497EQ*2/TH...   \n",
              "\n",
              "                                                  URL     Price  \n",
              "0   https://www.aliexpress.com/item/4000972188106....     79.99  \n",
              "2   https://www.aliexpress.com/item/4000995400006....  1,349.99  \n",
              "3   https://www.aliexpress.com/item/4000960723826....     79.99  \n",
              "8   https://www.aliexpress.com/item/4000465710581....    645.05  \n",
              "11  https://www.aliexpress.com/item/4000622421489....    783.99  \n",
              "14   https://www.aliexpress.com/item/33001451741.html    427.49  \n",
              "16   https://www.aliexpress.com/item/32966863423.html    247.99  \n",
              "17   https://www.aliexpress.com/item/32961737369.html    149.90  \n",
              "18  https://www.aliexpress.com/item/4000478804030....    658.63  \n",
              "23  https://www.aliexpress.com/item/4000521166245....    666.39  "
            ],
            "text/html": [
              "<div>\n",
              "<style scoped>\n",
              "    .dataframe tbody tr th:only-of-type {\n",
              "        vertical-align: middle;\n",
              "    }\n",
              "\n",
              "    .dataframe tbody tr th {\n",
              "        vertical-align: top;\n",
              "    }\n",
              "\n",
              "    .dataframe thead th {\n",
              "        text-align: right;\n",
              "    }\n",
              "</style>\n",
              "<table border=\"1\" class=\"dataframe\">\n",
              "  <thead>\n",
              "    <tr style=\"text-align: right;\">\n",
              "      <th></th>\n",
              "      <th>Description</th>\n",
              "      <th>URL</th>\n",
              "      <th>Price</th>\n",
              "    </tr>\n",
              "  </thead>\n",
              "  <tbody>\n",
              "    <tr>\n",
              "      <th>0</th>\n",
              "      <td>FiiO M3 Pro Full Touchscreen Lossless DSD HiFi...</td>\n",
              "      <td>https://www.aliexpress.com/item/4000972188106....</td>\n",
              "      <td>79.99</td>\n",
              "    </tr>\n",
              "    <tr>\n",
              "      <th>2</th>\n",
              "      <td>FiiO M15 Flagship Android Dual AK4499 Hi-Res P...</td>\n",
              "      <td>https://www.aliexpress.com/item/4000995400006....</td>\n",
              "      <td>1,349.99</td>\n",
              "    </tr>\n",
              "    <tr>\n",
              "      <th>3</th>\n",
              "      <td>FiiO M3Pro/M3 Pro Hi-Res MP3 Player ES9218 HiF...</td>\n",
              "      <td>https://www.aliexpress.com/item/4000960723826....</td>\n",
              "      <td>79.99</td>\n",
              "    </tr>\n",
              "    <tr>\n",
              "      <th>8</th>\n",
              "      <td>FiiO M11 Pro Android Hi-Res Music Player Bluet...</td>\n",
              "      <td>https://www.aliexpress.com/item/4000465710581....</td>\n",
              "      <td>645.05</td>\n",
              "    </tr>\n",
              "    <tr>\n",
              "      <th>11</th>\n",
              "      <td>FiiO M11 Pro Stainless Steel limited edition H...</td>\n",
              "      <td>https://www.aliexpress.com/item/4000622421489....</td>\n",
              "      <td>783.99</td>\n",
              "    </tr>\n",
              "    <tr>\n",
              "      <th>14</th>\n",
              "      <td>FiiO M11 HIFI Audio Android-based Bluetooth Lo...</td>\n",
              "      <td>https://www.aliexpress.com/item/33001451741.html</td>\n",
              "      <td>427.49</td>\n",
              "    </tr>\n",
              "    <tr>\n",
              "      <th>16</th>\n",
              "      <td>FiiO M9 HIFI Balanced Output Portable High-Res...</td>\n",
              "      <td>https://www.aliexpress.com/item/32966863423.html</td>\n",
              "      <td>247.99</td>\n",
              "    </tr>\n",
              "    <tr>\n",
              "      <th>17</th>\n",
              "      <td>FiiO M6 Hi-Res Bluetooth HiFi Music Portable M...</td>\n",
              "      <td>https://www.aliexpress.com/item/32961737369.html</td>\n",
              "      <td>149.90</td>\n",
              "    </tr>\n",
              "    <tr>\n",
              "      <th>18</th>\n",
              "      <td>FIIO M11 PRO Samsung Exynos 7872 Android 7.0 B...</td>\n",
              "      <td>https://www.aliexpress.com/item/4000478804030....</td>\n",
              "      <td>658.63</td>\n",
              "    </tr>\n",
              "    <tr>\n",
              "      <th>23</th>\n",
              "      <td>FiiO M11 Pro Hi-Res Music Player AK4497EQ*2/TH...</td>\n",
              "      <td>https://www.aliexpress.com/item/4000521166245....</td>\n",
              "      <td>666.39</td>\n",
              "    </tr>\n",
              "  </tbody>\n",
              "</table>\n",
              "</div>"
            ]
          },
          "metadata": {}
        }
      ],
      "execution_count": 12,
      "metadata": {
        "collapsed": true,
        "outputExpanded": false,
        "jupyter": {
          "source_hidden": false,
          "outputs_hidden": false
        },
        "nteract": {
          "transient": {
            "deleting": false
          }
        },
        "execution": {
          "iopub.status.busy": "2020-05-08T12:04:39.404Z",
          "iopub.execute_input": "2020-05-08T12:04:39.408Z",
          "iopub.status.idle": "2020-05-08T12:04:39.419Z",
          "shell.execute_reply": "2020-05-08T12:04:39.445Z"
        }
      }
    },
    {
      "cell_type": "markdown",
      "source": [
        "Save the cleaned items list into `fiio_listing.csv`."
      ],
      "metadata": {
        "nteract": {
          "transient": {
            "deleting": false
          }
        }
      }
    },
    {
      "cell_type": "code",
      "source": [
        "fiio_items.to_csv(\"fiio_listing.csv\", index=False)"
      ],
      "outputs": [],
      "execution_count": 15,
      "metadata": {
        "collapsed": true,
        "outputExpanded": false,
        "jupyter": {
          "source_hidden": false,
          "outputs_hidden": false
        },
        "nteract": {
          "transient": {
            "deleting": false
          }
        },
        "execution": {
          "iopub.status.busy": "2020-05-08T12:08:14.507Z",
          "iopub.execute_input": "2020-05-08T12:08:14.512Z",
          "iopub.status.idle": "2020-05-08T12:08:14.518Z",
          "shell.execute_reply": "2020-05-08T12:08:14.527Z"
        }
      }
    }
  ],
  "metadata": {
    "kernel_info": {
      "name": "python3"
    },
    "language_info": {
      "name": "python",
      "version": "3.8.2",
      "mimetype": "text/x-python",
      "codemirror_mode": {
        "name": "ipython",
        "version": 3
      },
      "pygments_lexer": "ipython3",
      "nbconvert_exporter": "python",
      "file_extension": ".py"
    },
    "kernelspec": {
      "argv": [
        "C:\\Program Files\\Python\\python.exe",
        "-m",
        "ipykernel_launcher",
        "-f",
        "{connection_file}"
      ],
      "display_name": "Python 3",
      "language": "python",
      "name": "python3"
    },
    "nteract": {
      "version": "0.23.1"
    }
  },
  "nbformat": 4,
  "nbformat_minor": 0
}